{
 "cells": [
  {
   "attachments": {},
   "cell_type": "markdown",
   "id": "abb343b5",
   "metadata": {},
   "source": [
    "On this Jupyter Notebook, I make use of CoinMarketCap API, to automate data extraction of the top 20 Cryptocurrency on their site every four hours, in order to update a csv file that's later gonna be used for data transformation and analysis."
   ]
  },
  {
   "cell_type": "code",
   "execution_count": 5,
   "id": "9e87e3df",
   "metadata": {},
   "outputs": [],
   "source": [
    "\n",
    "from requests import Request, Session\n",
    "from requests.exceptions import ConnectionError, Timeout, TooManyRedirects\n",
    "import json\n",
    "\n",
    "url = 'https://pro-api.coinmarketcap.com/v1/cryptocurrency/listings/latest' \n",
    "#Original Sandbox Environment: 'https://sandbox-api.coinmarketcap.com/v1/cryptocurrency/listings/latest'\n",
    "parameters = {\n",
    "  'start':'1',\n",
    "  'limit':'20',\n",
    "  'convert':'USD'\n",
    "}\n",
    "headers = {\n",
    "  'Accepts': 'application/json',\n",
    "  'X-CMC_PRO_API_KEY': 'd59e234d-ad06-4496-a019-24ded796d2f0', #My Personal Key \n",
    "}\n",
    "\n",
    "session = Session()\n",
    "session.headers.update(headers)\n",
    "\n",
    "try:\n",
    "  response = session.get(url, params=parameters)\n",
    "  data = json.loads(response.text)\n",
    "  #print(data)\n",
    "except (ConnectionError, Timeout, TooManyRedirects) as e:\n",
    "  print(e)\n",
    "\n",
    "#NOTE:\n",
    "# This is code provided on the CoinMarketCap API Documentation "
   ]
  },
  {
   "cell_type": "code",
   "execution_count": 13,
   "id": "87bf2081",
   "metadata": {},
   "outputs": [],
   "source": [
    "import pandas as pd\n",
    "\n",
    "#This allows to see all the columns\n",
    "pd.set_option('display.max_columns', None)\n",
    "pd.set_option('display.max_rows', None)"
   ]
  },
  {
   "cell_type": "code",
   "execution_count": null,
   "id": "770aa0e7",
   "metadata": {},
   "outputs": [],
   "source": [
    "#This normalizes the data and transforms it into a dataframe\n",
    "\n",
    "df = pd.json_normalize(data['data'])\n",
    "df['timestamp'] = pd.to_datetime('now', utc=True)\n",
    "df"
   ]
  },
  {
   "cell_type": "code",
   "execution_count": 14,
   "id": "7115c3ea",
   "metadata": {},
   "outputs": [],
   "source": [
    "#Main function to the project\n",
    "\n",
    "def api_runner():\n",
    "    global df\n",
    "    url = 'https://pro-api.coinmarketcap.com/v1/cryptocurrency/listings/latest'\n",
    "    parameters = {\n",
    "      'start':'1',\n",
    "      'limit':'20',\n",
    "      'convert':'USD'\n",
    "    }\n",
    "    headers = {\n",
    "      'Accepts': 'application/json',\n",
    "      'X-CMC_PRO_API_KEY': 'd59e234d-ad06-4496-a019-24ded796d2f0',\n",
    "    }\n",
    "\n",
    "    session = Session()\n",
    "    session.headers.update(headers)\n",
    "\n",
    "    try:\n",
    "      response = session.get(url, params=parameters)\n",
    "      data = json.loads(response.text)\n",
    "      #print(data)\n",
    "    except (ConnectionError, Timeout, TooManyRedirects) as e:\n",
    "      print(e)\n",
    "    \n",
    "    # This keeps the data in a DataFrame\n",
    "    \n",
    "    #df2 = pd.json_normalize(data['data'])\n",
    "    #df2['timestamp'] = pd.to_datetime('now', utc=True)\n",
    "    #df= pd.concat([df,df2])\n",
    "    \n",
    "      # This creates a csv and append data to it\n",
    "    df = pd.json_normalize(data['data'])\n",
    "    df['timestamp'] = pd.to_datetime('now', utc=True)\n",
    "    df\n",
    "\n",
    "    if not os.path.isfile(r'C:\\Users\\migvl\\OneDrive\\Desktop\\Data analyst\\PythonNotebooks\\CryptoAPI_CSV\\Hourly_Data.csv'):\n",
    "        df.to_csv(r'C:\\Users\\migvl\\OneDrive\\Desktop\\Data analyst\\PythonNotebooks\\CryptoAPI_CSV\\Hourly_Data.csv', header='column_names')\n",
    "    else:\n",
    "        df.to_csv(r'C:\\Users\\migvl\\OneDrive\\Desktop\\Data analyst\\PythonNotebooks\\CryptoAPI_CSV\\Hourly_Data.csv', mode='a', header=False)\n",
    "        \n",
    "    #Then to read in the file: \n",
    "    #df_read = pd.read_csv(r'C:\\Users\\migvl\\OneDrive\\Desktop\\Data analyst\\PythonNotebooks\\CryptoAPI_CSV\\Hourly_Data.csv')"
   ]
  },
  {
   "cell_type": "code",
   "execution_count": 15,
   "id": "87d14098",
   "metadata": {},
   "outputs": [
    {
     "name": "stdout",
     "output_type": "stream",
     "text": [
      "API Runner completed\n",
      "API Runner completed\n",
      "API Runner completed\n",
      "API Runner completed\n",
      "API Runner completed\n",
      "API Runner completed\n",
      "API Runner completed\n",
      "API Runner completed\n",
      "API Runner completed\n",
      "API Runner completed\n",
      "API Runner completed\n",
      "API Runner completed\n",
      "API Runner completed\n",
      "API Runner completed\n"
     ]
    },
    {
     "ename": "KeyboardInterrupt",
     "evalue": "",
     "output_type": "error",
     "traceback": [
      "\u001b[1;31m---------------------------------------------------------------------------\u001b[0m",
      "\u001b[1;31mKeyboardInterrupt\u001b[0m                         Traceback (most recent call last)",
      "\u001b[1;32m~\\AppData\\Local\\Temp\\ipykernel_5768\\1620834461.py\u001b[0m in \u001b[0;36m<module>\u001b[1;34m\u001b[0m\n\u001b[0;32m      6\u001b[0m     \u001b[0mapi_runner\u001b[0m\u001b[1;33m(\u001b[0m\u001b[1;33m)\u001b[0m\u001b[1;33m\u001b[0m\u001b[1;33m\u001b[0m\u001b[0m\n\u001b[0;32m      7\u001b[0m     \u001b[0mprint\u001b[0m\u001b[1;33m(\u001b[0m\u001b[1;34m'API Runner completed'\u001b[0m\u001b[1;33m)\u001b[0m\u001b[1;33m\u001b[0m\u001b[1;33m\u001b[0m\u001b[0m\n\u001b[1;32m----> 8\u001b[1;33m     \u001b[0msleep\u001b[0m\u001b[1;33m(\u001b[0m\u001b[1;36m300\u001b[0m\u001b[1;33m)\u001b[0m \u001b[1;31m#sleep for 5 minutes\u001b[0m\u001b[1;33m\u001b[0m\u001b[1;33m\u001b[0m\u001b[0m\n\u001b[0m\u001b[0;32m      9\u001b[0m \u001b[0mexit\u001b[0m\u001b[1;33m(\u001b[0m\u001b[1;33m)\u001b[0m\u001b[1;33m\u001b[0m\u001b[1;33m\u001b[0m\u001b[0m\n",
      "\u001b[1;31mKeyboardInterrupt\u001b[0m: "
     ]
    }
   ],
   "source": [
    "import os \n",
    "from time import time\n",
    "from time import sleep\n",
    "\n",
    "for i in range(333):     #333 is the daily limit of calls to the API \n",
    "    api_runner()\n",
    "    print('API Runner completed')\n",
    "    sleep(14400) #sleep for 4 hours\n",
    "exit()"
   ]
  },
  {
   "cell_type": "code",
   "execution_count": null,
   "id": "64a1e357",
   "metadata": {},
   "outputs": [],
   "source": []
  }
 ],
 "metadata": {
  "kernelspec": {
   "display_name": "Python 3 (ipykernel)",
   "language": "python",
   "name": "python3"
  },
  "language_info": {
   "codemirror_mode": {
    "name": "ipython",
    "version": 3
   },
   "file_extension": ".py",
   "mimetype": "text/x-python",
   "name": "python",
   "nbconvert_exporter": "python",
   "pygments_lexer": "ipython3",
   "version": "3.9.13"
  }
 },
 "nbformat": 4,
 "nbformat_minor": 5
}
